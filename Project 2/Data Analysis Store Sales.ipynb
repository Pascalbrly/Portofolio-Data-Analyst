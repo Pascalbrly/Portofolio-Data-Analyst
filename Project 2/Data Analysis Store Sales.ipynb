{
 "cells": [
  {
   "cell_type": "markdown",
   "metadata": {},
   "source": [
    "# Table of Content"
   ]
  },
  {
   "cell_type": "markdown",
   "metadata": {},
   "source": [
    "1. Background\n",
    "2. Problem Identification\n",
    "3. Data Source\n",
    "4. Import Libraries\n",
    "5. Reading Data\n",
    "6. Statistical Information about the Data\n",
    "7. Data Cleansing\n",
    "8. Exploratory Data Analyst (EDA)\n",
    "9. Conclusion & Recommendation"
   ]
  },
  {
   "cell_type": "markdown",
   "metadata": {},
   "source": [
    "# 1. Background"
   ]
  },
  {
   "cell_type": "markdown",
   "metadata": {},
   "source": [
    "Dalam era kompetitif industri ritel, pemahaman yang mendalam terhadap tren penjualan dan pola perilaku pelanggan menjadi kunci utama untuk mencapai kesuksesan bisnis. Dengan data penjualan yang kaya akan informasi, perusahaan dapat mengidentifikasi peluang untuk meningkatkan efisiensi operasional, memperkuat hubungan dengan pelanggan, dan mengoptimalkan strategi pemasaran. \n",
    "\n",
    "Analisis menyeluruh tentang penjualan tidak hanya mencakup evaluasi performa produk dan wilayah penjualan, tetapi juga mempertimbangkan faktor-faktor seperti keuntungan, diskon, dan metode pengiriman yang digunakan. Dari sinilah, perusahaan dapat merumuskan langkah-langkah strategis yang tepat untuk memperkuat posisinya di pasar dan meningkatkan profitabilitasnya. Dengan demikian, memahami data penjualan menjadi fondasi yang kuat untuk mengarahkan keputusan bisnis yang efektif dan efisien."
   ]
  },
  {
   "cell_type": "markdown",
   "metadata": {},
   "source": [
    "# 2. Problem Identification"
   ]
  },
  {
   "cell_type": "markdown",
   "metadata": {},
   "source": [
    "a. Penjualan\n",
    "- Berapa jumlah total penjualan di setiap kategori produk?\n",
    "- Berapa total keuntungan yang dihasilkan dari penjualan di wilayah Selatan?\n",
    "- Berapa persentase perbandingan total keuntungan yang dihasilkan dari semua wilayah?\n",
    "- Bagaimana pertumbuhan penjualan dari tahun ke tahun, apakah ada peningkatan atau penurunan yang signifikan?\n",
    "- Adakah bulan yang menunjukkan penurunan signifikan dalam penjualan di tahun 2018?\n",
    "\n",
    "b. Pelanggan\n",
    "- Siapa pelanggan yang melakukan pembelian tertinggi (dilihat dari jumlah penjualan) dan detail pembelian mereka apa saja?\n",
    "- Di antara pelanggan yang terdaftar, siapa yang melakukan pembelian terbanyak (dilihat dari jumlah barang yang dibeli) dan detail pembelian mereka apa saja?\n",
    "- Bagaimana distribusi segmen pelanggan dalam data?\n",
    "\n",
    "c. Metode Pengiriman\n",
    "- Berapa jumlah pesanan yang dikirim menggunakan metode pengiriman \"Second Class\"?\n",
    "\n",
    "d. Diskon dan Keuntungan\n",
    "- Berapa persentase diskon rata-rata yang diberikan untuk setiap kategori produk?\n",
    "- Kategori produk mana yang memiliki margin keuntungan rata-rata tertinggi?\n",
    "\n",
    "e. Produk\n",
    "- Berapa total kuantitas yang terjual untuk setiap sub-kategori produk?\n",
    "- Apakah ada kategori produk tertentu yang mendominasi penjualan? Bagaimana distribusi penjualan di antara sub-kategori produk?"
   ]
  },
  {
   "cell_type": "markdown",
   "metadata": {},
   "source": [
    "# 3. Data Source"
   ]
  },
  {
   "cell_type": "markdown",
   "metadata": {},
   "source": [
    "a. Data Tabel Order\n",
    "1. Row ID : Baris index digunakan untuk identifikasi tunggal setiap baris\n",
    "2. Order ID\t: ID unik pesanan item untuk pelanggan\n",
    "3. Order Date : Tanggal pelanggan membeli item \n",
    "4. Ship Date : Tanggal pengiriman pesanan item pelanggan\n",
    "5. Ship Mode : Metode pengiriman untuk mengirimkan pesanan kepada pelanggan\n",
    "6. Customer ID : ID unik untuk setiap pelanggan\n",
    "7. Country/Region : Negara tempat pelanggan melakukan pesanan\n",
    "8. Postal Code : Kode pos wilayah tempat pelanggan tinggal\n",
    "9. Region : Wilayah geografis di mana pesanan dikirimkan\n",
    "10. Product ID : ID unik untuk setiap item yang dijual\n",
    "11. Category : Kategori untuk setiap item\n",
    "12. Sub-Category : Kategori spesifik dari setiap item\n",
    "13. Product Name : Nama item yang dijual\n",
    "14. Sales : Jumlah penjualan dari setiap item\n",
    "15. Quantity : Jumlah unit item yang dibeli pelanggan\n",
    "16. Discount : Jumlah potongan harga disetiap item\n",
    "17. Profit : Keuntungan yang dihasilkan dari penjualan item\n",
    "\n",
    "b. Data Tabel Customer\n",
    "1. Customer ID : ID unik untuk setiap pelanggan\n",
    "2. Customer Name : Nama pelanggan yang memesan\n",
    "3. Segment : Mengkategorikan pelanggan berdasarkan kriteria tertentu\n",
    "4. City : Kota tempat tinggal pelanggan\n",
    "5. State : Negara tempat tinggal pelanggan berada"
   ]
  },
  {
   "cell_type": "markdown",
   "metadata": {},
   "source": [
    "# 4. Import Libraries"
   ]
  },
  {
   "cell_type": "code",
   "execution_count": 1,
   "metadata": {},
   "outputs": [
    {
     "name": "stdout",
     "output_type": "stream",
     "text": [
      "Success\n"
     ]
    }
   ],
   "source": [
    "# import pymysql\n",
    "import pandas as pd\n",
    "import matplotlib.pyplot as plt\n",
    "import seaborn as sns   \n",
    "import numpy as np\n",
    "import mysql.connector\n",
    "%matplotlib inline\n",
    "print('Success')"
   ]
  },
  {
   "cell_type": "markdown",
   "metadata": {},
   "source": [
    "# 5. Reading Data"
   ]
  },
  {
   "cell_type": "markdown",
   "metadata": {},
   "source": [
    "a. Data Orders"
   ]
  },
  {
   "cell_type": "code",
   "execution_count": 2,
   "metadata": {},
   "outputs": [
    {
     "data": {
      "text/html": [
       "<div>\n",
       "<style scoped>\n",
       "    .dataframe tbody tr th:only-of-type {\n",
       "        vertical-align: middle;\n",
       "    }\n",
       "\n",
       "    .dataframe tbody tr th {\n",
       "        vertical-align: top;\n",
       "    }\n",
       "\n",
       "    .dataframe thead th {\n",
       "        text-align: right;\n",
       "    }\n",
       "</style>\n",
       "<table border=\"1\" class=\"dataframe\">\n",
       "  <thead>\n",
       "    <tr style=\"text-align: right;\">\n",
       "      <th></th>\n",
       "      <th>Row ID</th>\n",
       "      <th>Order ID</th>\n",
       "      <th>Order Date</th>\n",
       "      <th>Ship Date</th>\n",
       "      <th>Ship Mode</th>\n",
       "      <th>Customer ID</th>\n",
       "      <th>Country/Region</th>\n",
       "      <th>Postal Code</th>\n",
       "      <th>Region</th>\n",
       "      <th>Product ID</th>\n",
       "      <th>Category</th>\n",
       "      <th>Sub-Category</th>\n",
       "      <th>Product Name</th>\n",
       "      <th>Sales</th>\n",
       "      <th>Quantity</th>\n",
       "      <th>Discount</th>\n",
       "      <th>Profit</th>\n",
       "    </tr>\n",
       "  </thead>\n",
       "  <tbody>\n",
       "    <tr>\n",
       "      <th>0</th>\n",
       "      <td>1</td>\n",
       "      <td>CA-2019-152156</td>\n",
       "      <td>2019-11-08</td>\n",
       "      <td>2019-11-11</td>\n",
       "      <td>Second Class</td>\n",
       "      <td>CG-12520</td>\n",
       "      <td>United States</td>\n",
       "      <td>42420.0</td>\n",
       "      <td>South</td>\n",
       "      <td>FUR-BO-10001798</td>\n",
       "      <td>Furniture</td>\n",
       "      <td>Bookcases</td>\n",
       "      <td>Bush Somerset Collection Bookcase</td>\n",
       "      <td>261.96</td>\n",
       "      <td>2</td>\n",
       "      <td>0.0</td>\n",
       "      <td>41.9136</td>\n",
       "    </tr>\n",
       "    <tr>\n",
       "      <th>1</th>\n",
       "      <td>2</td>\n",
       "      <td>CA-2019-152156</td>\n",
       "      <td>2019-11-08</td>\n",
       "      <td>2019-11-11</td>\n",
       "      <td>Second Class</td>\n",
       "      <td>CG-12520</td>\n",
       "      <td>United States</td>\n",
       "      <td>42420.0</td>\n",
       "      <td>South</td>\n",
       "      <td>FUR-CH-10000454</td>\n",
       "      <td>Furniture</td>\n",
       "      <td>Chairs</td>\n",
       "      <td>Hon Deluxe Fabric Upholstered Stacking Chairs,...</td>\n",
       "      <td>731.94</td>\n",
       "      <td>3</td>\n",
       "      <td>0.0</td>\n",
       "      <td>219.5820</td>\n",
       "    </tr>\n",
       "    <tr>\n",
       "      <th>2</th>\n",
       "      <td>3</td>\n",
       "      <td>CA-2019-138688</td>\n",
       "      <td>2019-06-12</td>\n",
       "      <td>2019-06-16</td>\n",
       "      <td>Second Class</td>\n",
       "      <td>DV-13045</td>\n",
       "      <td>United States</td>\n",
       "      <td>90036.0</td>\n",
       "      <td>West</td>\n",
       "      <td>OFF-LA-10000240</td>\n",
       "      <td>Office Supplies</td>\n",
       "      <td>Labels</td>\n",
       "      <td>Self-Adhesive Address Labels for Typewriters b...</td>\n",
       "      <td>14.62</td>\n",
       "      <td>2</td>\n",
       "      <td>0.0</td>\n",
       "      <td>6.8714</td>\n",
       "    </tr>\n",
       "  </tbody>\n",
       "</table>\n",
       "</div>"
      ],
      "text/plain": [
       "   Row ID        Order ID Order Date  Ship Date     Ship Mode Customer ID  \\\n",
       "0       1  CA-2019-152156 2019-11-08 2019-11-11  Second Class    CG-12520   \n",
       "1       2  CA-2019-152156 2019-11-08 2019-11-11  Second Class    CG-12520   \n",
       "2       3  CA-2019-138688 2019-06-12 2019-06-16  Second Class    DV-13045   \n",
       "\n",
       "  Country/Region  Postal Code Region       Product ID         Category  \\\n",
       "0  United States      42420.0  South  FUR-BO-10001798        Furniture   \n",
       "1  United States      42420.0  South  FUR-CH-10000454        Furniture   \n",
       "2  United States      90036.0   West  OFF-LA-10000240  Office Supplies   \n",
       "\n",
       "  Sub-Category                                       Product Name   Sales  \\\n",
       "0    Bookcases                  Bush Somerset Collection Bookcase  261.96   \n",
       "1       Chairs  Hon Deluxe Fabric Upholstered Stacking Chairs,...  731.94   \n",
       "2       Labels  Self-Adhesive Address Labels for Typewriters b...   14.62   \n",
       "\n",
       "   Quantity  Discount    Profit  \n",
       "0         2       0.0   41.9136  \n",
       "1         3       0.0  219.5820  \n",
       "2         2       0.0    6.8714  "
      ]
     },
     "execution_count": 2,
     "metadata": {},
     "output_type": "execute_result"
    }
   ],
   "source": [
    "df_order = pd.read_excel('C:\\\\Users\\Admin\\Documents\\GitHub\\Portofolio-Data-Analyst\\Project 2\\Sample - Superstore - Wanda.xlsx', sheet_name = 'Orders')\n",
    "df_order.head(3)"
   ]
  },
  {
   "cell_type": "markdown",
   "metadata": {},
   "source": [
    "b. Data Customers"
   ]
  },
  {
   "cell_type": "code",
   "execution_count": 3,
   "metadata": {},
   "outputs": [
    {
     "data": {
      "text/html": [
       "<div>\n",
       "<style scoped>\n",
       "    .dataframe tbody tr th:only-of-type {\n",
       "        vertical-align: middle;\n",
       "    }\n",
       "\n",
       "    .dataframe tbody tr th {\n",
       "        vertical-align: top;\n",
       "    }\n",
       "\n",
       "    .dataframe thead th {\n",
       "        text-align: right;\n",
       "    }\n",
       "</style>\n",
       "<table border=\"1\" class=\"dataframe\">\n",
       "  <thead>\n",
       "    <tr style=\"text-align: right;\">\n",
       "      <th></th>\n",
       "      <th>Customer ID</th>\n",
       "      <th>Customer Name</th>\n",
       "      <th>Segment</th>\n",
       "      <th>City</th>\n",
       "      <th>State</th>\n",
       "    </tr>\n",
       "  </thead>\n",
       "  <tbody>\n",
       "    <tr>\n",
       "      <th>0</th>\n",
       "      <td>CG-12520</td>\n",
       "      <td>Claire Gute</td>\n",
       "      <td>Consumer</td>\n",
       "      <td>Henderson</td>\n",
       "      <td>Kentucky</td>\n",
       "    </tr>\n",
       "    <tr>\n",
       "      <th>1</th>\n",
       "      <td>CG-12520</td>\n",
       "      <td>Claire Gute</td>\n",
       "      <td>Consumer</td>\n",
       "      <td>Henderson</td>\n",
       "      <td>Kentucky</td>\n",
       "    </tr>\n",
       "    <tr>\n",
       "      <th>2</th>\n",
       "      <td>DV-13045</td>\n",
       "      <td>Darrin Van Huff</td>\n",
       "      <td>Corporate</td>\n",
       "      <td>Los Angeles</td>\n",
       "      <td>California</td>\n",
       "    </tr>\n",
       "  </tbody>\n",
       "</table>\n",
       "</div>"
      ],
      "text/plain": [
       "  Customer ID    Customer Name    Segment         City       State\n",
       "0    CG-12520      Claire Gute   Consumer    Henderson    Kentucky\n",
       "1    CG-12520      Claire Gute   Consumer    Henderson    Kentucky\n",
       "2    DV-13045  Darrin Van Huff  Corporate  Los Angeles  California"
      ]
     },
     "execution_count": 3,
     "metadata": {},
     "output_type": "execute_result"
    }
   ],
   "source": [
    "df_customer = pd.read_excel('C:\\\\Users\\Admin\\Documents\\GitHub\\Portofolio-Data-Analyst\\Project 2\\Sample - Superstore - Wanda.xlsx', sheet_name='Customer')\n",
    "df_customer.head(3)"
   ]
  },
  {
   "cell_type": "markdown",
   "metadata": {},
   "source": [
    "# 6. Statistical Information about the Data"
   ]
  },
  {
   "cell_type": "code",
   "execution_count": 4,
   "metadata": {},
   "outputs": [
    {
     "data": {
      "text/html": [
       "<div>\n",
       "<style scoped>\n",
       "    .dataframe tbody tr th:only-of-type {\n",
       "        vertical-align: middle;\n",
       "    }\n",
       "\n",
       "    .dataframe tbody tr th {\n",
       "        vertical-align: top;\n",
       "    }\n",
       "\n",
       "    .dataframe thead th {\n",
       "        text-align: right;\n",
       "    }\n",
       "</style>\n",
       "<table border=\"1\" class=\"dataframe\">\n",
       "  <thead>\n",
       "    <tr style=\"text-align: right;\">\n",
       "      <th></th>\n",
       "      <th>Row ID</th>\n",
       "      <th>Order Date</th>\n",
       "      <th>Ship Date</th>\n",
       "      <th>Postal Code</th>\n",
       "      <th>Sales</th>\n",
       "      <th>Quantity</th>\n",
       "      <th>Discount</th>\n",
       "      <th>Profit</th>\n",
       "    </tr>\n",
       "  </thead>\n",
       "  <tbody>\n",
       "    <tr>\n",
       "      <th>count</th>\n",
       "      <td>9994.000000</td>\n",
       "      <td>9994</td>\n",
       "      <td>9994</td>\n",
       "      <td>9983.000000</td>\n",
       "      <td>9994.000000</td>\n",
       "      <td>9994.000000</td>\n",
       "      <td>9994.000000</td>\n",
       "      <td>9994.000000</td>\n",
       "    </tr>\n",
       "    <tr>\n",
       "      <th>mean</th>\n",
       "      <td>4997.500000</td>\n",
       "      <td>2019-04-30 17:41:20.448268800</td>\n",
       "      <td>2019-05-04 16:42:15.921553152</td>\n",
       "      <td>55245.233297</td>\n",
       "      <td>229.858001</td>\n",
       "      <td>3.789574</td>\n",
       "      <td>0.156203</td>\n",
       "      <td>28.656896</td>\n",
       "    </tr>\n",
       "    <tr>\n",
       "      <th>min</th>\n",
       "      <td>1.000000</td>\n",
       "      <td>2017-01-03 00:00:00</td>\n",
       "      <td>2017-01-07 00:00:00</td>\n",
       "      <td>1040.000000</td>\n",
       "      <td>0.444000</td>\n",
       "      <td>1.000000</td>\n",
       "      <td>0.000000</td>\n",
       "      <td>-6599.978000</td>\n",
       "    </tr>\n",
       "    <tr>\n",
       "      <th>25%</th>\n",
       "      <td>2499.250000</td>\n",
       "      <td>2018-05-23 00:00:00</td>\n",
       "      <td>2018-05-27 00:00:00</td>\n",
       "      <td>23223.000000</td>\n",
       "      <td>17.280000</td>\n",
       "      <td>2.000000</td>\n",
       "      <td>0.000000</td>\n",
       "      <td>1.728750</td>\n",
       "    </tr>\n",
       "    <tr>\n",
       "      <th>50%</th>\n",
       "      <td>4997.500000</td>\n",
       "      <td>2019-06-26 00:00:00</td>\n",
       "      <td>2019-06-29 00:00:00</td>\n",
       "      <td>57103.000000</td>\n",
       "      <td>54.490000</td>\n",
       "      <td>3.000000</td>\n",
       "      <td>0.200000</td>\n",
       "      <td>8.666500</td>\n",
       "    </tr>\n",
       "    <tr>\n",
       "      <th>75%</th>\n",
       "      <td>7495.750000</td>\n",
       "      <td>2020-05-14 00:00:00</td>\n",
       "      <td>2020-05-18 00:00:00</td>\n",
       "      <td>90008.000000</td>\n",
       "      <td>209.940000</td>\n",
       "      <td>5.000000</td>\n",
       "      <td>0.200000</td>\n",
       "      <td>29.364000</td>\n",
       "    </tr>\n",
       "    <tr>\n",
       "      <th>max</th>\n",
       "      <td>9994.000000</td>\n",
       "      <td>2020-12-30 00:00:00</td>\n",
       "      <td>2021-01-05 00:00:00</td>\n",
       "      <td>99301.000000</td>\n",
       "      <td>22638.480000</td>\n",
       "      <td>14.000000</td>\n",
       "      <td>0.800000</td>\n",
       "      <td>8399.976000</td>\n",
       "    </tr>\n",
       "    <tr>\n",
       "      <th>std</th>\n",
       "      <td>2885.163629</td>\n",
       "      <td>NaN</td>\n",
       "      <td>NaN</td>\n",
       "      <td>32038.715955</td>\n",
       "      <td>623.245101</td>\n",
       "      <td>2.225110</td>\n",
       "      <td>0.206452</td>\n",
       "      <td>234.260108</td>\n",
       "    </tr>\n",
       "  </tbody>\n",
       "</table>\n",
       "</div>"
      ],
      "text/plain": [
       "            Row ID                     Order Date  \\\n",
       "count  9994.000000                           9994   \n",
       "mean   4997.500000  2019-04-30 17:41:20.448268800   \n",
       "min       1.000000            2017-01-03 00:00:00   \n",
       "25%    2499.250000            2018-05-23 00:00:00   \n",
       "50%    4997.500000            2019-06-26 00:00:00   \n",
       "75%    7495.750000            2020-05-14 00:00:00   \n",
       "max    9994.000000            2020-12-30 00:00:00   \n",
       "std    2885.163629                            NaN   \n",
       "\n",
       "                           Ship Date   Postal Code         Sales     Quantity  \\\n",
       "count                           9994   9983.000000   9994.000000  9994.000000   \n",
       "mean   2019-05-04 16:42:15.921553152  55245.233297    229.858001     3.789574   \n",
       "min              2017-01-07 00:00:00   1040.000000      0.444000     1.000000   \n",
       "25%              2018-05-27 00:00:00  23223.000000     17.280000     2.000000   \n",
       "50%              2019-06-29 00:00:00  57103.000000     54.490000     3.000000   \n",
       "75%              2020-05-18 00:00:00  90008.000000    209.940000     5.000000   \n",
       "max              2021-01-05 00:00:00  99301.000000  22638.480000    14.000000   \n",
       "std                              NaN  32038.715955    623.245101     2.225110   \n",
       "\n",
       "          Discount       Profit  \n",
       "count  9994.000000  9994.000000  \n",
       "mean      0.156203    28.656896  \n",
       "min       0.000000 -6599.978000  \n",
       "25%       0.000000     1.728750  \n",
       "50%       0.200000     8.666500  \n",
       "75%       0.200000    29.364000  \n",
       "max       0.800000  8399.976000  \n",
       "std       0.206452   234.260108  "
      ]
     },
     "execution_count": 4,
     "metadata": {},
     "output_type": "execute_result"
    }
   ],
   "source": [
    "df_order.describe()"
   ]
  },
  {
   "cell_type": "code",
   "execution_count": 5,
   "metadata": {},
   "outputs": [
    {
     "data": {
      "text/html": [
       "<div>\n",
       "<style scoped>\n",
       "    .dataframe tbody tr th:only-of-type {\n",
       "        vertical-align: middle;\n",
       "    }\n",
       "\n",
       "    .dataframe tbody tr th {\n",
       "        vertical-align: top;\n",
       "    }\n",
       "\n",
       "    .dataframe thead th {\n",
       "        text-align: right;\n",
       "    }\n",
       "</style>\n",
       "<table border=\"1\" class=\"dataframe\">\n",
       "  <thead>\n",
       "    <tr style=\"text-align: right;\">\n",
       "      <th></th>\n",
       "      <th>Customer ID</th>\n",
       "      <th>Customer Name</th>\n",
       "      <th>Segment</th>\n",
       "      <th>City</th>\n",
       "      <th>State</th>\n",
       "    </tr>\n",
       "  </thead>\n",
       "  <tbody>\n",
       "    <tr>\n",
       "      <th>count</th>\n",
       "      <td>9994</td>\n",
       "      <td>9994</td>\n",
       "      <td>9994</td>\n",
       "      <td>9994</td>\n",
       "      <td>9994</td>\n",
       "    </tr>\n",
       "    <tr>\n",
       "      <th>unique</th>\n",
       "      <td>793</td>\n",
       "      <td>793</td>\n",
       "      <td>3</td>\n",
       "      <td>531</td>\n",
       "      <td>49</td>\n",
       "    </tr>\n",
       "    <tr>\n",
       "      <th>top</th>\n",
       "      <td>WB-21850</td>\n",
       "      <td>William Brown</td>\n",
       "      <td>Consumer</td>\n",
       "      <td>New York City</td>\n",
       "      <td>California</td>\n",
       "    </tr>\n",
       "    <tr>\n",
       "      <th>freq</th>\n",
       "      <td>37</td>\n",
       "      <td>37</td>\n",
       "      <td>5191</td>\n",
       "      <td>915</td>\n",
       "      <td>2001</td>\n",
       "    </tr>\n",
       "  </tbody>\n",
       "</table>\n",
       "</div>"
      ],
      "text/plain": [
       "       Customer ID  Customer Name   Segment           City       State\n",
       "count         9994           9994      9994           9994        9994\n",
       "unique         793            793         3            531          49\n",
       "top       WB-21850  William Brown  Consumer  New York City  California\n",
       "freq            37             37      5191            915        2001"
      ]
     },
     "execution_count": 5,
     "metadata": {},
     "output_type": "execute_result"
    }
   ],
   "source": [
    "df_customer.describe()"
   ]
  },
  {
   "cell_type": "markdown",
   "metadata": {},
   "source": [
    "# 7. Data Cleansing"
   ]
  },
  {
   "cell_type": "markdown",
   "metadata": {},
   "source": [
    "a. Information about the Data Customer"
   ]
  },
  {
   "cell_type": "code",
   "execution_count": 6,
   "metadata": {},
   "outputs": [
    {
     "data": {
      "text/html": [
       "<div>\n",
       "<style scoped>\n",
       "    .dataframe tbody tr th:only-of-type {\n",
       "        vertical-align: middle;\n",
       "    }\n",
       "\n",
       "    .dataframe tbody tr th {\n",
       "        vertical-align: top;\n",
       "    }\n",
       "\n",
       "    .dataframe thead th {\n",
       "        text-align: right;\n",
       "    }\n",
       "</style>\n",
       "<table border=\"1\" class=\"dataframe\">\n",
       "  <thead>\n",
       "    <tr style=\"text-align: right;\">\n",
       "      <th></th>\n",
       "      <th>TYPE DATA</th>\n",
       "      <th>UNIQUE</th>\n",
       "      <th>NULL</th>\n",
       "    </tr>\n",
       "  </thead>\n",
       "  <tbody>\n",
       "    <tr>\n",
       "      <th>Row ID</th>\n",
       "      <td>int64</td>\n",
       "      <td>9994</td>\n",
       "      <td>True</td>\n",
       "    </tr>\n",
       "    <tr>\n",
       "      <th>Order ID</th>\n",
       "      <td>object</td>\n",
       "      <td>5009</td>\n",
       "      <td>True</td>\n",
       "    </tr>\n",
       "    <tr>\n",
       "      <th>Order Date</th>\n",
       "      <td>datetime64[ns]</td>\n",
       "      <td>1236</td>\n",
       "      <td>True</td>\n",
       "    </tr>\n",
       "    <tr>\n",
       "      <th>Ship Date</th>\n",
       "      <td>datetime64[ns]</td>\n",
       "      <td>1334</td>\n",
       "      <td>True</td>\n",
       "    </tr>\n",
       "    <tr>\n",
       "      <th>Ship Mode</th>\n",
       "      <td>object</td>\n",
       "      <td>4</td>\n",
       "      <td>True</td>\n",
       "    </tr>\n",
       "    <tr>\n",
       "      <th>Customer ID</th>\n",
       "      <td>object</td>\n",
       "      <td>793</td>\n",
       "      <td>True</td>\n",
       "    </tr>\n",
       "    <tr>\n",
       "      <th>Country/Region</th>\n",
       "      <td>object</td>\n",
       "      <td>1</td>\n",
       "      <td>True</td>\n",
       "    </tr>\n",
       "    <tr>\n",
       "      <th>Postal Code</th>\n",
       "      <td>float64</td>\n",
       "      <td>630</td>\n",
       "      <td>True</td>\n",
       "    </tr>\n",
       "    <tr>\n",
       "      <th>Region</th>\n",
       "      <td>object</td>\n",
       "      <td>4</td>\n",
       "      <td>True</td>\n",
       "    </tr>\n",
       "    <tr>\n",
       "      <th>Product ID</th>\n",
       "      <td>object</td>\n",
       "      <td>1862</td>\n",
       "      <td>True</td>\n",
       "    </tr>\n",
       "    <tr>\n",
       "      <th>Category</th>\n",
       "      <td>object</td>\n",
       "      <td>3</td>\n",
       "      <td>True</td>\n",
       "    </tr>\n",
       "    <tr>\n",
       "      <th>Sub-Category</th>\n",
       "      <td>object</td>\n",
       "      <td>17</td>\n",
       "      <td>True</td>\n",
       "    </tr>\n",
       "    <tr>\n",
       "      <th>Product Name</th>\n",
       "      <td>object</td>\n",
       "      <td>1849</td>\n",
       "      <td>True</td>\n",
       "    </tr>\n",
       "    <tr>\n",
       "      <th>Sales</th>\n",
       "      <td>float64</td>\n",
       "      <td>6144</td>\n",
       "      <td>True</td>\n",
       "    </tr>\n",
       "    <tr>\n",
       "      <th>Quantity</th>\n",
       "      <td>int64</td>\n",
       "      <td>14</td>\n",
       "      <td>True</td>\n",
       "    </tr>\n",
       "    <tr>\n",
       "      <th>Discount</th>\n",
       "      <td>float64</td>\n",
       "      <td>12</td>\n",
       "      <td>True</td>\n",
       "    </tr>\n",
       "    <tr>\n",
       "      <th>Profit</th>\n",
       "      <td>float64</td>\n",
       "      <td>7545</td>\n",
       "      <td>True</td>\n",
       "    </tr>\n",
       "  </tbody>\n",
       "</table>\n",
       "</div>"
      ],
      "text/plain": [
       "                     TYPE DATA  UNIQUE  NULL\n",
       "Row ID                   int64    9994  True\n",
       "Order ID                object    5009  True\n",
       "Order Date      datetime64[ns]    1236  True\n",
       "Ship Date       datetime64[ns]    1334  True\n",
       "Ship Mode               object       4  True\n",
       "Customer ID             object     793  True\n",
       "Country/Region          object       1  True\n",
       "Postal Code            float64     630  True\n",
       "Region                  object       4  True\n",
       "Product ID              object    1862  True\n",
       "Category                object       3  True\n",
       "Sub-Category            object      17  True\n",
       "Product Name            object    1849  True\n",
       "Sales                  float64    6144  True\n",
       "Quantity                 int64      14  True\n",
       "Discount               float64      12  True\n",
       "Profit                 float64    7545  True"
      ]
     },
     "execution_count": 6,
     "metadata": {},
     "output_type": "execute_result"
    }
   ],
   "source": [
    "info_customer = pd.DataFrame({\n",
    "    'TYPE DATA' : df_order.dtypes.values,\n",
    "    'UNIQUE' : df_order.nunique(),\n",
    "    'NULL' : df_order.isna().values.any()\n",
    "})\n",
    "\n",
    "info_customer"
   ]
  },
  {
   "cell_type": "markdown",
   "metadata": {},
   "source": [
    "b. Information about the Data Customer"
   ]
  },
  {
   "cell_type": "code",
   "execution_count": 7,
   "metadata": {},
   "outputs": [
    {
     "data": {
      "text/html": [
       "<div>\n",
       "<style scoped>\n",
       "    .dataframe tbody tr th:only-of-type {\n",
       "        vertical-align: middle;\n",
       "    }\n",
       "\n",
       "    .dataframe tbody tr th {\n",
       "        vertical-align: top;\n",
       "    }\n",
       "\n",
       "    .dataframe thead th {\n",
       "        text-align: right;\n",
       "    }\n",
       "</style>\n",
       "<table border=\"1\" class=\"dataframe\">\n",
       "  <thead>\n",
       "    <tr style=\"text-align: right;\">\n",
       "      <th></th>\n",
       "      <th>TYPE DATA</th>\n",
       "      <th>UNIQUE</th>\n",
       "      <th>NULL</th>\n",
       "    </tr>\n",
       "  </thead>\n",
       "  <tbody>\n",
       "    <tr>\n",
       "      <th>Customer ID</th>\n",
       "      <td>object</td>\n",
       "      <td>793</td>\n",
       "      <td>False</td>\n",
       "    </tr>\n",
       "    <tr>\n",
       "      <th>Customer Name</th>\n",
       "      <td>object</td>\n",
       "      <td>793</td>\n",
       "      <td>False</td>\n",
       "    </tr>\n",
       "    <tr>\n",
       "      <th>Segment</th>\n",
       "      <td>object</td>\n",
       "      <td>3</td>\n",
       "      <td>False</td>\n",
       "    </tr>\n",
       "    <tr>\n",
       "      <th>City</th>\n",
       "      <td>object</td>\n",
       "      <td>531</td>\n",
       "      <td>False</td>\n",
       "    </tr>\n",
       "    <tr>\n",
       "      <th>State</th>\n",
       "      <td>object</td>\n",
       "      <td>49</td>\n",
       "      <td>False</td>\n",
       "    </tr>\n",
       "  </tbody>\n",
       "</table>\n",
       "</div>"
      ],
      "text/plain": [
       "              TYPE DATA  UNIQUE   NULL\n",
       "Customer ID      object     793  False\n",
       "Customer Name    object     793  False\n",
       "Segment          object       3  False\n",
       "City             object     531  False\n",
       "State            object      49  False"
      ]
     },
     "execution_count": 7,
     "metadata": {},
     "output_type": "execute_result"
    }
   ],
   "source": [
    "info_customer = pd.DataFrame({\n",
    "    'TYPE DATA' : df_customer.dtypes.values,\n",
    "    'UNIQUE' : df_customer.nunique(),\n",
    "    'NULL' : df_customer.isna().values.any()\n",
    "})\n",
    "\n",
    "info_customer"
   ]
  },
  {
   "cell_type": "markdown",
   "metadata": {},
   "source": [
    "c. Checking Duplicated Data Customer"
   ]
  },
  {
   "cell_type": "code",
   "execution_count": 8,
   "metadata": {},
   "outputs": [
    {
     "data": {
      "text/plain": [
       "5306"
      ]
     },
     "execution_count": 8,
     "metadata": {},
     "output_type": "execute_result"
    }
   ],
   "source": [
    "df_customer.duplicated().sum()"
   ]
  },
  {
   "cell_type": "markdown",
   "metadata": {},
   "source": [
    "d. Drop Duplicated Data Customer"
   ]
  },
  {
   "cell_type": "code",
   "execution_count": 9,
   "metadata": {},
   "outputs": [
    {
     "name": "stdout",
     "output_type": "stream",
     "text": [
      "success\n"
     ]
    }
   ],
   "source": [
    "df_customer.drop_duplicates(inplace=True)\n",
    "print('success')"
   ]
  },
  {
   "cell_type": "markdown",
   "metadata": {},
   "source": [
    "e. Checking Duplicated Data Order"
   ]
  },
  {
   "cell_type": "code",
   "execution_count": 10,
   "metadata": {},
   "outputs": [
    {
     "data": {
      "text/plain": [
       "0"
      ]
     },
     "execution_count": 10,
     "metadata": {},
     "output_type": "execute_result"
    }
   ],
   "source": [
    "df_order.duplicated().sum()"
   ]
  },
  {
   "cell_type": "markdown",
   "metadata": {},
   "source": [
    "f. Change Missing values (NaN) to 0"
   ]
  },
  {
   "cell_type": "code",
   "execution_count": 11,
   "metadata": {},
   "outputs": [
    {
     "name": "stdout",
     "output_type": "stream",
     "text": [
      "Success\n"
     ]
    }
   ],
   "source": [
    "df_order['Postal Code'].fillna(0, inplace=True)\n",
    "print('Success')"
   ]
  },
  {
   "cell_type": "markdown",
   "metadata": {},
   "source": [
    "g. Change Type data"
   ]
  },
  {
   "cell_type": "code",
   "execution_count": 12,
   "metadata": {},
   "outputs": [
    {
     "name": "stdout",
     "output_type": "stream",
     "text": [
      "Success\n"
     ]
    }
   ],
   "source": [
    "df_order['Postal Code'] = df_order['Postal Code'].astype(int)\n",
    "print('Success')"
   ]
  },
  {
   "cell_type": "code",
   "execution_count": 13,
   "metadata": {},
   "outputs": [
    {
     "data": {
      "text/plain": [
       "Row ID            0\n",
       "Order ID          0\n",
       "Order Date        0\n",
       "Ship Date         0\n",
       "Ship Mode         0\n",
       "Customer ID       0\n",
       "Country/Region    0\n",
       "Postal Code       0\n",
       "Region            0\n",
       "Product ID        0\n",
       "Category          0\n",
       "Sub-Category      0\n",
       "Product Name      0\n",
       "Sales             0\n",
       "Quantity          0\n",
       "Discount          0\n",
       "Profit            0\n",
       "dtype: int64"
      ]
     },
     "execution_count": 13,
     "metadata": {},
     "output_type": "execute_result"
    }
   ],
   "source": [
    "df_order.isna().sum()"
   ]
  },
  {
   "cell_type": "markdown",
   "metadata": {},
   "source": [
    "# 8. Exploratory Data Analyst (EDA)"
   ]
  },
  {
   "cell_type": "markdown",
   "metadata": {},
   "source": [
    "### a. Penjualan"
   ]
  },
  {
   "cell_type": "markdown",
   "metadata": {},
   "source": [
    "- Berapa jumlah total penjualan di setiap kategori produk?"
   ]
  },
  {
   "cell_type": "code",
   "execution_count": 14,
   "metadata": {},
   "outputs": [
    {
     "data": {
      "text/plain": [
       "Category\n",
       "Office Supplies    6026\n",
       "Furniture          2121\n",
       "Technology         1847\n",
       "Name: count, dtype: int64"
      ]
     },
     "execution_count": 14,
     "metadata": {},
     "output_type": "execute_result"
    }
   ],
   "source": [
    "df_order.Category.value_counts()"
   ]
  },
  {
   "cell_type": "code",
   "execution_count": 15,
   "metadata": {},
   "outputs": [
    {
     "name": "stdout",
     "output_type": "stream",
     "text": [
      "Category\n",
      "Furniture          741999.7953\n",
      "Office Supplies    719047.0320\n",
      "Technology         836154.0330\n",
      "Name: Sales, dtype: float64\n"
     ]
    },
    {
     "data": {
      "image/png": "[encoded data removed]",
      "text/plain": [
       "<Figure size 640x480 with 1 Axes>"
      ]
     },
     "metadata": {},
     "output_type": "display_data"
    }
   ],
   "source": [
    "# Mengelompokkan data berdasarkan kategori produk dan menjumlahkan kolom penjualan\n",
    "sales_by_category = df_order.groupby('Category')['Sales'].sum()\n",
    "\n",
    "# Menampilkan total penjualan untuk setiap kategori produk\n",
    "print(sales_by_category)\n",
    "\n",
    "# Membuat plot menggunakan seaborn\n",
    "sns.barplot(\n",
    "    x=sales_by_category.index,\n",
    "    y=sales_by_category.values,\n",
    "    hue=sales_by_category.index,\n",
    "    palette='plasma'\n",
    ")\n",
    "\n",
    "# Menambahkan label pada barplot\n",
    "for index, value in enumerate(sales_by_category.values):\n",
    "    plt.text(index, value, str(value), ha='center', va='bottom')\n",
    "\n",
    "plt.xlabel('Kategori Produk')\n",
    "plt.ylabel('Total Penjualan')\n",
    "plt.show()\n"
   ]
  },
  {
   "cell_type": "markdown",
   "metadata": {},
   "source": [
    "- Berapa total keuntungan yang dihasilkan dari penjualan di wilayah Selatan?"
   ]
  },
  {
   "cell_type": "code",
   "execution_count": 16,
   "metadata": {},
   "outputs": [
    {
     "name": "stdout",
     "output_type": "stream",
     "text": [
      "Index(['Row ID', 'Order ID', 'Order Date', 'Ship Date', 'Ship Mode',\n",
      "       'Customer ID', 'Country/Region', 'Postal Code', 'Region', 'Product ID',\n",
      "       'Category', 'Sub-Category', 'Product Name', 'Sales', 'Quantity',\n",
      "       'Discount', 'Profit'],\n",
      "      dtype='object')\n"
     ]
    }
   ],
   "source": [
    "print(df_order.columns)"
   ]
  },
  {
   "cell_type": "code",
   "execution_count": 17,
   "metadata": {},
   "outputs": [
    {
     "name": "stdout",
     "output_type": "stream",
     "text": [
      "Index(['Customer ID', 'Customer Name', 'Segment', 'City', 'State'], dtype='object')\n"
     ]
    }
   ],
   "source": [
    "print(df_customer.columns)"
   ]
  },
  {
   "cell_type": "code",
   "execution_count": 18,
   "metadata": {},
   "outputs": [
    {
     "data": {
      "text/html": [
       "<div>\n",
       "<style scoped>\n",
       "    .dataframe tbody tr th:only-of-type {\n",
       "        vertical-align: middle;\n",
       "    }\n",
       "\n",
       "    .dataframe tbody tr th {\n",
       "        vertical-align: top;\n",
       "    }\n",
       "\n",
       "    .dataframe thead th {\n",
       "        text-align: right;\n",
       "    }\n",
       "</style>\n",
       "<table border=\"1\" class=\"dataframe\">\n",
       "  <thead>\n",
       "    <tr style=\"text-align: right;\">\n",
       "      <th></th>\n",
       "      <th>Profit</th>\n",
       "      <th>Region</th>\n",
       "    </tr>\n",
       "  </thead>\n",
       "  <tbody>\n",
       "    <tr>\n",
       "      <th>0</th>\n",
       "      <td>41.9136</td>\n",
       "      <td>South</td>\n",
       "    </tr>\n",
       "    <tr>\n",
       "      <th>1</th>\n",
       "      <td>219.5820</td>\n",
       "      <td>South</td>\n",
       "    </tr>\n",
       "    <tr>\n",
       "      <th>2</th>\n",
       "      <td>6.8714</td>\n",
       "      <td>West</td>\n",
       "    </tr>\n",
       "    <tr>\n",
       "      <th>3</th>\n",
       "      <td>-383.0310</td>\n",
       "      <td>South</td>\n",
       "    </tr>\n",
       "    <tr>\n",
       "      <th>4</th>\n",
       "      <td>2.5164</td>\n",
       "      <td>South</td>\n",
       "    </tr>\n",
       "  </tbody>\n",
       "</table>\n",
       "</div>"
      ],
      "text/plain": [
       "     Profit Region\n",
       "0   41.9136  South\n",
       "1  219.5820  South\n",
       "2    6.8714   West\n",
       "3 -383.0310  South\n",
       "4    2.5164  South"
      ]
     },
     "execution_count": 18,
     "metadata": {},
     "output_type": "execute_result"
    }
   ],
   "source": [
    "subset = df_order[['Profit','Region']]\n",
    "subset.head()"
   ]
  },
  {
   "cell_type": "code",
   "execution_count": 19,
   "metadata": {},
   "outputs": [
    {
     "data": {
      "text/html": [
       "<div>\n",
       "<style scoped>\n",
       "    .dataframe tbody tr th:only-of-type {\n",
       "        vertical-align: middle;\n",
       "    }\n",
       "\n",
       "    .dataframe tbody tr th {\n",
       "        vertical-align: top;\n",
       "    }\n",
       "\n",
       "    .dataframe thead th {\n",
       "        text-align: right;\n",
       "    }\n",
       "</style>\n",
       "<table border=\"1\" class=\"dataframe\">\n",
       "  <thead>\n",
       "    <tr style=\"text-align: right;\">\n",
       "      <th></th>\n",
       "      <th>Profit</th>\n",
       "      <th>Region</th>\n",
       "    </tr>\n",
       "  </thead>\n",
       "  <tbody>\n",
       "    <tr>\n",
       "      <th>0</th>\n",
       "      <td>41.9136</td>\n",
       "      <td>South</td>\n",
       "    </tr>\n",
       "    <tr>\n",
       "      <th>1</th>\n",
       "      <td>219.5820</td>\n",
       "      <td>South</td>\n",
       "    </tr>\n",
       "    <tr>\n",
       "      <th>3</th>\n",
       "      <td>-383.0310</td>\n",
       "      <td>South</td>\n",
       "    </tr>\n",
       "    <tr>\n",
       "      <th>4</th>\n",
       "      <td>2.5164</td>\n",
       "      <td>South</td>\n",
       "    </tr>\n",
       "    <tr>\n",
       "      <th>12</th>\n",
       "      <td>5.4432</td>\n",
       "      <td>South</td>\n",
       "    </tr>\n",
       "  </tbody>\n",
       "</table>\n",
       "</div>"
      ],
      "text/plain": [
       "      Profit Region\n",
       "0    41.9136  South\n",
       "1   219.5820  South\n",
       "3  -383.0310  South\n",
       "4     2.5164  South\n",
       "12    5.4432  South"
      ]
     },
     "execution_count": 19,
     "metadata": {},
     "output_type": "execute_result"
    }
   ],
   "source": [
    "subset_south = subset[subset['Region']=='South']\n",
    "subset_south.head()"
   ]
  },
  {
   "cell_type": "code",
   "execution_count": 20,
   "metadata": {},
   "outputs": [
    {
     "name": "stdout",
     "output_type": "stream",
     "text": [
      "Jumlah Total Profit wilayah selatan = 46749.43029999999\n"
     ]
    }
   ],
   "source": [
    "total_profit = subset_south['Profit'].sum()\n",
    "print('Jumlah Total Profit wilayah selatan =', total_profit)"
   ]
  },
  {
   "cell_type": "markdown",
   "metadata": {},
   "source": [
    "- Berapa persentase perbandingan total keuntungan yang dihasilkan dari semua wilayah?"
   ]
  },
  {
   "cell_type": "code",
   "execution_count": 21,
   "metadata": {},
   "outputs": [
    {
     "data": {
      "text/plain": [
       "Region\n",
       "Central     39706.3625\n",
       "East        91522.7800\n",
       "South       46749.4303\n",
       "West       108418.4489\n",
       "Name: Profit, dtype: float64"
      ]
     },
     "execution_count": 21,
     "metadata": {},
     "output_type": "execute_result"
    }
   ],
   "source": [
    "total_profit_by_region = subset.groupby('Region')['Profit'].sum()\n",
    "total_profit_by_region"
   ]
  },
  {
   "cell_type": "code",
   "execution_count": 22,
   "metadata": {},
   "outputs": [
    {
     "data": {
      "text/plain": [
       "Region\n",
       "Central    13.864098\n",
       "East       31.956610\n",
       "South      16.323295\n",
       "West       37.855997\n",
       "Name: Profit, dtype: float64"
      ]
     },
     "execution_count": 22,
     "metadata": {},
     "output_type": "execute_result"
    }
   ],
   "source": [
    "total_profit_all_regions = total_profit_by_region.sum()\n",
    "\n",
    "# Menghitung persentase profit di setiap wilayah\n",
    "percentage_profit_per_region = (total_profit_by_region / total_profit_all_regions) * 100\n",
    "percentage_profit_per_region"
   ]
  },
  {
   "cell_type": "code",
   "execution_count": 23,
   "metadata": {},
   "outputs": [
    {
     "data": {
      "image/png": "[encoded data removed]",
      "text/plain": [
       "<Figure size 500x500 with 1 Axes>"
      ]
     },
     "metadata": {},
     "output_type": "display_data"
    }
   ],
   "source": [
    "plt.figure(figsize=(5, 5))\n",
    "pallete = sns.color_palette(\"viridis\", len(percentage_profit_per_region))\n",
    "plt.pie(\n",
    "    percentage_profit_per_region,\n",
    "    labels=percentage_profit_per_region.index,\n",
    "    autopct='%.0f%%',\n",
    "    startangle=45,\n",
    "    colors=pallete)\n",
    "plt.title('Persentase Total Profit di Setiap Wilayah')\n",
    "plt.show()"
   ]
  },
  {
   "cell_type": "markdown",
   "metadata": {},
   "source": [
    "- Bagaimana pertumbuhan penjualan dari tahun ke tahun, apakah ada peningkatan atau penurunan yang signifikan?"
   ]
  },
  {
   "cell_type": "code",
   "execution_count": 24,
   "metadata": {},
   "outputs": [
    {
     "data": {
      "image/png": "[encoded data removed]",
      "text/plain": [
       "<Figure size 1000x600 with 1 Axes>"
      ]
     },
     "metadata": {},
     "output_type": "display_data"
    }
   ],
   "source": [
    "# Merubah Order Date ke dalam format date time\n",
    "df_order['Order Date'] = pd.to_datetime(df_order['Order Date'])\n",
    "\n",
    "# Ekstrak tahun dari kolom Order Date\n",
    "df_order['Year'] = df_order['Order Date'].dt.year\n",
    "\n",
    "# Kelompokkan berdasarkan tahun dan hitung jumlah penjualan\n",
    "sales_per_year = df_order.groupby('Year')['Sales'].sum().reset_index()\n",
    "\n",
    "plt.figure(figsize=(10, 6))\n",
    "sns.lineplot(\n",
    "    data=sales_per_year,\n",
    "    x='Year',\n",
    "    y='Sales',\n",
    "    marker='o')\n",
    "plt.title('Penjualan per Tahun')\n",
    "plt.xlabel('Tahun')\n",
    "plt.ylabel('Total Penjualan')\n",
    "plt.grid(True, linestyle='--', alpha=0.7)\n",
    "plt.xticks(rotation=45)\n",
    "plt.tight_layout()\n",
    "plt.show()\n"
   ]
  },
  {
   "cell_type": "markdown",
   "metadata": {},
   "source": [
    "- Adakah bulan yang menunjukkan penurunan signifikan dalam penjualan di tahun 2018?"
   ]
  },
  {
   "cell_type": "code",
   "execution_count": 25,
   "metadata": {},
   "outputs": [
    {
     "name": "stderr",
     "output_type": "stream",
     "text": [
      "C:\\Users\\Admin\\AppData\\Local\\Temp\\ipykernel_9848\\1517958405.py:8: SettingWithCopyWarning: \n",
      "A value is trying to be set on a copy of a slice from a DataFrame.\n",
      "Try using .loc[row_indexer,col_indexer] = value instead\n",
      "\n",
      "See the caveats in the documentation: https://pandas.pydata.org/pandas-docs/stable/user_guide/indexing.html#returning-a-view-versus-a-copy\n",
      "  df_order_2018['Month'] = df_order_2018['Order Date'].dt.month\n"
     ]
    },
    {
     "data": {
      "image/png": "[encoded data removed]",
      "text/plain": [
       "<Figure size 1000x600 with 1 Axes>"
      ]
     },
     "metadata": {},
     "output_type": "display_data"
    }
   ],
   "source": [
    "# Konversi kolom Order Date ke format datetime\n",
    "df_order['Order Date'] = pd.to_datetime(df_order['Order Date'])\n",
    "\n",
    "# Filter data tahun 2018\n",
    "df_order_2018 = df_order[df_order['Order Date'].dt.year == 2018]\n",
    "\n",
    "# Ekstrak bulan dari kolom \"Order Date\"\n",
    "df_order_2018['Month'] = df_order_2018['Order Date'].dt.month\n",
    "\n",
    "# Kelompokkan berdasarkan bulan dan hitung jumlah penjualan\n",
    "sales_per_month_2018 = df_order_2018.groupby('Month')['Sales'].sum().reset_index()\n",
    "\n",
    "plt.figure(figsize=(10, 6))\n",
    "sns.lineplot(data=sales_per_month_2018, x='Month', y='Sales', marker='o', color='green')\n",
    "plt.title('Penjualan per Bulan dalam Tahun 2018')\n",
    "plt.xlabel('Bulan')\n",
    "plt.ylabel('Total Penjualan')\n",
    "plt.xticks(range(1, 13), ['Jan', 'Feb', 'Mar', 'Apr', 'May', 'Jun', 'Jul', 'Aug', 'Sep', 'Oct', 'Nov', 'Dec'])\n",
    "plt.grid(True, linestyle='--', alpha=0.7)\n",
    "plt.tight_layout()\n",
    "plt.show()"
   ]
  },
  {
   "cell_type": "markdown",
   "metadata": {},
   "source": [
    "### b. Pelanggan"
   ]
  },
  {
   "cell_type": "markdown",
   "metadata": {},
   "source": [
    "- Siapa pelanggan yang melakukan pembelian tertinggi dan detail pembelian mereka apa saja?"
   ]
  },
  {
   "cell_type": "code",
   "execution_count": 26,
   "metadata": {},
   "outputs": [
    {
     "data": {
      "text/html": [
       "<div>\n",
       "<style scoped>\n",
       "    .dataframe tbody tr th:only-of-type {\n",
       "        vertical-align: middle;\n",
       "    }\n",
       "\n",
       "    .dataframe tbody tr th {\n",
       "        vertical-align: top;\n",
       "    }\n",
       "\n",
       "    .dataframe thead th {\n",
       "        text-align: right;\n",
       "    }\n",
       "</style>\n",
       "<table border=\"1\" class=\"dataframe\">\n",
       "  <thead>\n",
       "    <tr style=\"text-align: right;\">\n",
       "      <th></th>\n",
       "      <th>Row ID</th>\n",
       "      <th>Order ID</th>\n",
       "      <th>Order Date</th>\n",
       "      <th>Ship Date</th>\n",
       "      <th>Ship Mode</th>\n",
       "      <th>Customer ID</th>\n",
       "      <th>Country/Region</th>\n",
       "      <th>Postal Code</th>\n",
       "      <th>Region</th>\n",
       "      <th>Product ID</th>\n",
       "      <th>...</th>\n",
       "      <th>Product Name</th>\n",
       "      <th>Sales</th>\n",
       "      <th>Quantity</th>\n",
       "      <th>Discount</th>\n",
       "      <th>Profit</th>\n",
       "      <th>Year</th>\n",
       "      <th>Customer Name</th>\n",
       "      <th>Segment</th>\n",
       "      <th>City</th>\n",
       "      <th>State</th>\n",
       "    </tr>\n",
       "  </thead>\n",
       "  <tbody>\n",
       "    <tr>\n",
       "      <th>0</th>\n",
       "      <td>1</td>\n",
       "      <td>CA-2019-152156</td>\n",
       "      <td>2019-11-08</td>\n",
       "      <td>2019-11-11</td>\n",
       "      <td>Second Class</td>\n",
       "      <td>CG-12520</td>\n",
       "      <td>United States</td>\n",
       "      <td>42420</td>\n",
       "      <td>South</td>\n",
       "      <td>FUR-BO-10001798</td>\n",
       "      <td>...</td>\n",
       "      <td>Bush Somerset Collection Bookcase</td>\n",
       "      <td>261.96</td>\n",
       "      <td>2</td>\n",
       "      <td>0.0</td>\n",
       "      <td>41.9136</td>\n",
       "      <td>2019</td>\n",
       "      <td>Claire Gute</td>\n",
       "      <td>Consumer</td>\n",
       "      <td>Henderson</td>\n",
       "      <td>Kentucky</td>\n",
       "    </tr>\n",
       "    <tr>\n",
       "      <th>0</th>\n",
       "      <td>1</td>\n",
       "      <td>CA-2019-152156</td>\n",
       "      <td>2019-11-08</td>\n",
       "      <td>2019-11-11</td>\n",
       "      <td>Second Class</td>\n",
       "      <td>CG-12520</td>\n",
       "      <td>United States</td>\n",
       "      <td>42420</td>\n",
       "      <td>South</td>\n",
       "      <td>FUR-BO-10001798</td>\n",
       "      <td>...</td>\n",
       "      <td>Bush Somerset Collection Bookcase</td>\n",
       "      <td>261.96</td>\n",
       "      <td>2</td>\n",
       "      <td>0.0</td>\n",
       "      <td>41.9136</td>\n",
       "      <td>2019</td>\n",
       "      <td>Claire Gute</td>\n",
       "      <td>Consumer</td>\n",
       "      <td>Houston</td>\n",
       "      <td>Texas</td>\n",
       "    </tr>\n",
       "    <tr>\n",
       "      <th>0</th>\n",
       "      <td>1</td>\n",
       "      <td>CA-2019-152156</td>\n",
       "      <td>2019-11-08</td>\n",
       "      <td>2019-11-11</td>\n",
       "      <td>Second Class</td>\n",
       "      <td>CG-12520</td>\n",
       "      <td>United States</td>\n",
       "      <td>42420</td>\n",
       "      <td>South</td>\n",
       "      <td>FUR-BO-10001798</td>\n",
       "      <td>...</td>\n",
       "      <td>Bush Somerset Collection Bookcase</td>\n",
       "      <td>261.96</td>\n",
       "      <td>2</td>\n",
       "      <td>0.0</td>\n",
       "      <td>41.9136</td>\n",
       "      <td>2019</td>\n",
       "      <td>Claire Gute</td>\n",
       "      <td>Consumer</td>\n",
       "      <td>Dallas</td>\n",
       "      <td>Texas</td>\n",
       "    </tr>\n",
       "  </tbody>\n",
       "</table>\n",
       "<p>3 rows × 22 columns</p>\n",
       "</div>"
      ],
      "text/plain": [
       "   Row ID        Order ID Order Date  Ship Date     Ship Mode Customer ID  \\\n",
       "0       1  CA-2019-152156 2019-11-08 2019-11-11  Second Class    CG-12520   \n",
       "0       1  CA-2019-152156 2019-11-08 2019-11-11  Second Class    CG-12520   \n",
       "0       1  CA-2019-152156 2019-11-08 2019-11-11  Second Class    CG-12520   \n",
       "\n",
       "  Country/Region  Postal Code Region       Product ID  ...  \\\n",
       "0  United States        42420  South  FUR-BO-10001798  ...   \n",
       "0  United States        42420  South  FUR-BO-10001798  ...   \n",
       "0  United States        42420  South  FUR-BO-10001798  ...   \n",
       "\n",
       "                        Product Name   Sales Quantity  Discount   Profit  \\\n",
       "0  Bush Somerset Collection Bookcase  261.96        2       0.0  41.9136   \n",
       "0  Bush Somerset Collection Bookcase  261.96        2       0.0  41.9136   \n",
       "0  Bush Somerset Collection Bookcase  261.96        2       0.0  41.9136   \n",
       "\n",
       "   Year  Customer Name   Segment       City     State  \n",
       "0  2019    Claire Gute  Consumer  Henderson  Kentucky  \n",
       "0  2019    Claire Gute  Consumer    Houston     Texas  \n",
       "0  2019    Claire Gute  Consumer     Dallas     Texas  \n",
       "\n",
       "[3 rows x 22 columns]"
      ]
     },
     "execution_count": 26,
     "metadata": {},
     "output_type": "execute_result"
    }
   ],
   "source": [
    "join_df = df_order.join(df_customer.set_index('Customer ID'),on='Customer ID', how='inner')\n",
    "join_df.head(3)"
   ]
  },
  {
   "cell_type": "code",
   "execution_count": 27,
   "metadata": {},
   "outputs": [
    {
     "name": "stdout",
     "output_type": "stream",
     "text": [
      "Index(['Row ID', 'Order ID', 'Order Date', 'Ship Date', 'Ship Mode',\n",
      "       'Customer ID', 'Country/Region', 'Postal Code', 'Region', 'Product ID',\n",
      "       'Category', 'Sub-Category', 'Product Name', 'Sales', 'Quantity',\n",
      "       'Discount', 'Profit', 'Year', 'Customer Name', 'Segment', 'City',\n",
      "       'State'],\n",
      "      dtype='object')\n"
     ]
    }
   ],
   "source": [
    "print(join_df.columns)"
   ]
  },
  {
   "cell_type": "code",
   "execution_count": 28,
   "metadata": {},
   "outputs": [
    {
     "data": {
      "text/plain": [
       "Customer Name\n",
       "Aaron Bergman       2658.468\n",
       "Aaron Hawkins      10468.200\n",
       "Aaron Smayling     21354.844\n",
       "Adam Bellavance    62044.960\n",
       "Adam Hart          32503.370\n",
       "Name: Sales, dtype: float64"
      ]
     },
     "execution_count": 28,
     "metadata": {},
     "output_type": "execute_result"
    }
   ],
   "source": [
    "customer_sales = join_df.groupby('Customer Name')['Sales'].sum()\n",
    "customer_sales.head()"
   ]
  },
  {
   "cell_type": "code",
   "execution_count": 29,
   "metadata": {},
   "outputs": [
    {
     "name": "stdout",
     "output_type": "stream",
     "text": [
      "Pelanggan dengan total penjualan tertinggi:\n",
      "Nama Pelanggan: Ken Lonsdale\n",
      "Total Pembelian: 141752.29\n"
     ]
    }
   ],
   "source": [
    "top_customer = customer_sales.idxmax()\n",
    "top_customer_sales = customer_sales.max()\n",
    "\n",
    "# Memfilter detail pembelian untuk pelanggan tertinggi\n",
    "top_customer_details = join_df[join_df['Customer Name'] == top_customer]\n",
    "\n",
    "# Menampilkan hasil\n",
    "print('Pelanggan dengan total penjualan tertinggi:')\n",
    "print('Nama Pelanggan:', top_customer)\n",
    "print('Total Pembelian:', top_customer_sales)"
   ]
  },
  {
   "cell_type": "code",
   "execution_count": 30,
   "metadata": {},
   "outputs": [
    {
     "name": "stdout",
     "output_type": "stream",
     "text": [
      "     Customer Name                                       Product Name\n",
      "237   Ken Lonsdale                                         Xerox 1957\n",
      "238   Ken Lonsdale  Luxo Professional Fluorescent Magnifier Lamp w...\n",
      "239   Ken Lonsdale                         Staple-based wall hangings\n",
      "240   Ken Lonsdale                  PureGear Roll-On Screen Protector\n",
      "241   Ken Lonsdale                               KI Conference Tables\n",
      "242   Ken Lonsdale                   Eldon 100 Class Desk Accessories\n",
      "243   Ken Lonsdale  Binney & Smith Crayola Metallic Colored Pencil...\n",
      "339   Ken Lonsdale       OIC Binder Clips, Mini, 1/4\" Capacity, Black\n",
      "1444  Ken Lonsdale                       Mitel MiVoice 5330e IP Phone\n",
      "2504  Ken Lonsdale       Fellowes Personal Hanging Folder Files, Navy\n",
      "2505  Ken Lonsdale        High Speed Automatic Electric Letter Opener\n",
      "2735  Ken Lonsdale                                     BlackBerry Q10\n",
      "2736  Ken Lonsdale        Adams Telephone Message Books, 5 1/4” x 11”\n",
      "2737  Ken Lonsdale                            Bestar Classic Bookcase\n",
      "2738  Ken Lonsdale   Innergie mMini Combo Duo USB Travel Charging Kit\n",
      "3229  Ken Lonsdale                        Tennsco Single-Tier Lockers\n",
      "4417  Ken Lonsdale            GBC Recycled Regency Composition Covers\n",
      "4671  Ken Lonsdale               Honeywell Quietcare HEPA Air Cleaner\n",
      "4672  Ken Lonsdale   ClearOne Communications CHAT 70 OC Speaker Phone\n",
      "4673  Ken Lonsdale         Polycom SoundPoint Pro SE-225 Corded phone\n",
      "4674  Ken Lonsdale  Eldon ClusterMat Chair Mat with Cordless Antis...\n",
      "4871  Ken Lonsdale                                    OIC Thumb-Tacks\n",
      "4872  Ken Lonsdale  Acco 6 Outlet Guardian Premium Plus Surge Supp...\n",
      "4873  Ken Lonsdale                        Tennsco Commercial Shelving\n",
      "4874  Ken Lonsdale                            Storex Dura Pro Binders\n",
      "5685  Ken Lonsdale  Avery Trapezoid Ring Binder, 3\" Capacity, Blac...\n",
      "7062  Ken Lonsdale      Peel & Seel Recycled Catalog Envelopes, Brown\n",
      "9671  Ken Lonsdale      Samsung Replacement EH64AVFWE Premium Headset\n"
     ]
    }
   ],
   "source": [
    "unique_data = top_customer_details[['Customer Name', 'Product Name']].drop_duplicates()\n",
    "print(unique_data)"
   ]
  },
  {
   "cell_type": "markdown",
   "metadata": {},
   "source": [
    "- Di antara pelanggan yang terdaftar, siapa yang melakukan pembelian terbanyak (dilihat dari jumlah barang yang dibeli) dan detail pembelian mereka apa saja?"
   ]
  },
  {
   "cell_type": "code",
   "execution_count": 31,
   "metadata": {},
   "outputs": [
    {
     "data": {
      "text/plain": [
       "Customer Name\n",
       "Aaron Bergman       18\n",
       "Aaron Hawkins       66\n",
       "Aaron Smayling      70\n",
       "Adam Bellavance    144\n",
       "Adam Hart          200\n",
       "Name: Sales, dtype: int64"
      ]
     },
     "execution_count": 31,
     "metadata": {},
     "output_type": "execute_result"
    }
   ],
   "source": [
    "customer_sales_count = join_df.groupby('Customer Name')['Sales'].count()\n",
    "customer_sales_count.head()"
   ]
  },
  {
   "cell_type": "code",
   "execution_count": 32,
   "metadata": {},
   "outputs": [
    {
     "data": {
      "text/html": [
       "<div>\n",
       "<style scoped>\n",
       "    .dataframe tbody tr th:only-of-type {\n",
       "        vertical-align: middle;\n",
       "    }\n",
       "\n",
       "    .dataframe tbody tr th {\n",
       "        vertical-align: top;\n",
       "    }\n",
       "\n",
       "    .dataframe thead th {\n",
       "        text-align: right;\n",
       "    }\n",
       "</style>\n",
       "<table border=\"1\" class=\"dataframe\">\n",
       "  <thead>\n",
       "    <tr style=\"text-align: right;\">\n",
       "      <th></th>\n",
       "      <th>Customer Name</th>\n",
       "      <th>Purchased Item</th>\n",
       "    </tr>\n",
       "  </thead>\n",
       "  <tbody>\n",
       "    <tr>\n",
       "      <th>0</th>\n",
       "      <td>Aaron Bergman</td>\n",
       "      <td>18</td>\n",
       "    </tr>\n",
       "    <tr>\n",
       "      <th>1</th>\n",
       "      <td>Aaron Hawkins</td>\n",
       "      <td>66</td>\n",
       "    </tr>\n",
       "    <tr>\n",
       "      <th>2</th>\n",
       "      <td>Aaron Smayling</td>\n",
       "      <td>70</td>\n",
       "    </tr>\n",
       "    <tr>\n",
       "      <th>3</th>\n",
       "      <td>Adam Bellavance</td>\n",
       "      <td>144</td>\n",
       "    </tr>\n",
       "    <tr>\n",
       "      <th>4</th>\n",
       "      <td>Adam Hart</td>\n",
       "      <td>200</td>\n",
       "    </tr>\n",
       "    <tr>\n",
       "      <th>5</th>\n",
       "      <td>Adam Shillingsburg</td>\n",
       "      <td>175</td>\n",
       "    </tr>\n",
       "    <tr>\n",
       "      <th>6</th>\n",
       "      <td>Adrian Barton</td>\n",
       "      <td>180</td>\n",
       "    </tr>\n",
       "    <tr>\n",
       "      <th>7</th>\n",
       "      <td>Adrian Hane</td>\n",
       "      <td>112</td>\n",
       "    </tr>\n",
       "    <tr>\n",
       "      <th>8</th>\n",
       "      <td>Adrian Shami</td>\n",
       "      <td>6</td>\n",
       "    </tr>\n",
       "    <tr>\n",
       "      <th>9</th>\n",
       "      <td>Aimee Bixby</td>\n",
       "      <td>60</td>\n",
       "    </tr>\n",
       "    <tr>\n",
       "      <th>10</th>\n",
       "      <td>Alan Barnes</td>\n",
       "      <td>98</td>\n",
       "    </tr>\n",
       "    <tr>\n",
       "      <th>11</th>\n",
       "      <td>Alan Dominguez</td>\n",
       "      <td>84</td>\n",
       "    </tr>\n",
       "    <tr>\n",
       "      <th>12</th>\n",
       "      <td>Alan Haines</td>\n",
       "      <td>32</td>\n",
       "    </tr>\n",
       "    <tr>\n",
       "      <th>13</th>\n",
       "      <td>Alan Hwang</td>\n",
       "      <td>117</td>\n",
       "    </tr>\n",
       "    <tr>\n",
       "      <th>14</th>\n",
       "      <td>Alan Schoenberger</td>\n",
       "      <td>65</td>\n",
       "    </tr>\n",
       "    <tr>\n",
       "      <th>15</th>\n",
       "      <td>Alan Shonely</td>\n",
       "      <td>78</td>\n",
       "    </tr>\n",
       "    <tr>\n",
       "      <th>16</th>\n",
       "      <td>Alejandro Ballentine</td>\n",
       "      <td>112</td>\n",
       "    </tr>\n",
       "    <tr>\n",
       "      <th>17</th>\n",
       "      <td>Alejandro Grove</td>\n",
       "      <td>70</td>\n",
       "    </tr>\n",
       "    <tr>\n",
       "      <th>18</th>\n",
       "      <td>Alejandro Savely</td>\n",
       "      <td>48</td>\n",
       "    </tr>\n",
       "    <tr>\n",
       "      <th>19</th>\n",
       "      <td>Aleksandra Gannaway</td>\n",
       "      <td>20</td>\n",
       "    </tr>\n",
       "  </tbody>\n",
       "</table>\n",
       "</div>"
      ],
      "text/plain": [
       "           Customer Name  Purchased Item\n",
       "0          Aaron Bergman              18\n",
       "1          Aaron Hawkins              66\n",
       "2         Aaron Smayling              70\n",
       "3        Adam Bellavance             144\n",
       "4              Adam Hart             200\n",
       "5     Adam Shillingsburg             175\n",
       "6          Adrian Barton             180\n",
       "7            Adrian Hane             112\n",
       "8           Adrian Shami               6\n",
       "9            Aimee Bixby              60\n",
       "10           Alan Barnes              98\n",
       "11        Alan Dominguez              84\n",
       "12           Alan Haines              32\n",
       "13            Alan Hwang             117\n",
       "14     Alan Schoenberger              65\n",
       "15          Alan Shonely              78\n",
       "16  Alejandro Ballentine             112\n",
       "17       Alejandro Grove              70\n",
       "18      Alejandro Savely              48\n",
       "19   Aleksandra Gannaway              20"
      ]
     },
     "execution_count": 32,
     "metadata": {},
     "output_type": "execute_result"
    }
   ],
   "source": [
    "customer_sales_count = customer_sales_count.rename('Purchased Item').reset_index()\n",
    "customer_sales_count.head(20)"
   ]
  },
  {
   "cell_type": "code",
   "execution_count": 33,
   "metadata": {},
   "outputs": [
    {
     "data": {
      "text/html": [
       "<div>\n",
       "<style scoped>\n",
       "    .dataframe tbody tr th:only-of-type {\n",
       "        vertical-align: middle;\n",
       "    }\n",
       "\n",
       "    .dataframe tbody tr th {\n",
       "        vertical-align: top;\n",
       "    }\n",
       "\n",
       "    .dataframe thead th {\n",
       "        text-align: right;\n",
       "    }\n",
       "</style>\n",
       "<table border=\"1\" class=\"dataframe\">\n",
       "  <thead>\n",
       "    <tr style=\"text-align: right;\">\n",
       "      <th></th>\n",
       "      <th>Customer Name</th>\n",
       "      <th>Purchased Item</th>\n",
       "    </tr>\n",
       "  </thead>\n",
       "  <tbody>\n",
       "    <tr>\n",
       "      <th>259</th>\n",
       "      <td>Emily Phan</td>\n",
       "      <td>465</td>\n",
       "    </tr>\n",
       "    <tr>\n",
       "      <th>791</th>\n",
       "      <td>Zuschuss Carroll</td>\n",
       "      <td>372</td>\n",
       "    </tr>\n",
       "    <tr>\n",
       "      <th>145</th>\n",
       "      <td>Chloris Kastensmidt</td>\n",
       "      <td>352</td>\n",
       "    </tr>\n",
       "    <tr>\n",
       "      <th>595</th>\n",
       "      <td>Paul Prost</td>\n",
       "      <td>340</td>\n",
       "    </tr>\n",
       "    <tr>\n",
       "      <th>787</th>\n",
       "      <td>William Brown</td>\n",
       "      <td>333</td>\n",
       "    </tr>\n",
       "  </tbody>\n",
       "</table>\n",
       "</div>"
      ],
      "text/plain": [
       "           Customer Name  Purchased Item\n",
       "259           Emily Phan             465\n",
       "791     Zuschuss Carroll             372\n",
       "145  Chloris Kastensmidt             352\n",
       "595           Paul Prost             340\n",
       "787        William Brown             333"
      ]
     },
     "execution_count": 33,
     "metadata": {},
     "output_type": "execute_result"
    }
   ],
   "source": [
    "top_5_customers = customer_sales_count.sort_values(by='Purchased Item', ascending=False).head(5)\n",
    "top_5_customers"
   ]
  },
  {
   "cell_type": "code",
   "execution_count": 34,
   "metadata": {},
   "outputs": [
    {
     "data": {
      "image/png": "[encoded data removed]",
      "text/plain": [
       "<Figure size 1000x600 with 1 Axes>"
      ]
     },
     "metadata": {},
     "output_type": "display_data"
    }
   ],
   "source": [
    "top_5_customers = customer_sales_count.sort_values(by='Purchased Item', ascending=False).head(5)\n",
    "\n",
    "plt.figure(figsize=(10, 6))\n",
    "sns.barplot(\n",
    "    x='Customer Name',\n",
    "    y='Purchased Item',\n",
    "    data=top_5_customers,\n",
    "    hue='Customer Name',\n",
    "    palette='Set2'\n",
    ")\n",
    "plt.xticks(rotation=360, ha='center')\n",
    "plt.xlabel('Customer Name')\n",
    "plt.ylabel('Jumlah Total Pembelian')\n",
    "\n",
    "for index, value in enumerate(top_5_customers['Purchased Item']):\n",
    "    plt.annotate(str(value), xy=(index, value), ha='center', va='bottom')\n",
    "\n",
    "plt.tight_layout()\n",
    "plt.show()\n"
   ]
  },
  {
   "cell_type": "markdown",
   "metadata": {},
   "source": [
    "- Bagaimana distribusi segmen pelanggan dalam data?"
   ]
  },
  {
   "cell_type": "code",
   "execution_count": 35,
   "metadata": {},
   "outputs": [
    {
     "name": "stdout",
     "output_type": "stream",
     "text": [
      "Distribusi Segmen Pelanggan:\n",
      "Segment\n",
      "Consumer       35312\n",
      "Corporate      20987\n",
      "Home Office    11841\n",
      "Name: count, dtype: int64\n"
     ]
    }
   ],
   "source": [
    "segment_distribution = join_df['Segment'].value_counts()\n",
    "\n",
    "print(\"Distribusi Segmen Pelanggan:\")\n",
    "print(segment_distribution)"
   ]
  },
  {
   "cell_type": "code",
   "execution_count": 36,
   "metadata": {},
   "outputs": [
    {
     "data": {
      "image/png": "[encoded data removed]",
      "text/plain": [
       "<Figure size 1000x600 with 1 Axes>"
      ]
     },
     "metadata": {},
     "output_type": "display_data"
    }
   ],
   "source": [
    "plt.figure(figsize=(10, 6))\n",
    "sns.countplot(data=join_df, x='Segment', palette='Set2', hue='Segment')\n",
    "plt.title('Distribusi Segmen Pelanggan')\n",
    "plt.xlabel('Segmen Pelanggan')\n",
    "plt.ylabel('Jumlah Pelanggan')\n",
    "plt.xticks(ha='center')\n",
    "\n",
    "for index, value in enumerate(join_df['Segment'].value_counts()):\n",
    "    plt.text(index, value, str(value), ha='center', va='bottom')\n",
    "plt.show()"
   ]
  },
  {
   "cell_type": "markdown",
   "metadata": {},
   "source": [
    "### c. Metode Pengiriman"
   ]
  },
  {
   "cell_type": "markdown",
   "metadata": {},
   "source": [
    "- Berapa jumlah pesanan yang dikirim menggunakan metode pengiriman \"Second Class\"?"
   ]
  },
  {
   "cell_type": "code",
   "execution_count": 37,
   "metadata": {},
   "outputs": [
    {
     "data": {
      "text/plain": [
       "Index(['Row ID', 'Order ID', 'Order Date', 'Ship Date', 'Ship Mode',\n",
       "       'Customer ID', 'Country/Region', 'Postal Code', 'Region', 'Product ID',\n",
       "       'Category', 'Sub-Category', 'Product Name', 'Sales', 'Quantity',\n",
       "       'Discount', 'Profit', 'Year'],\n",
       "      dtype='object')"
      ]
     },
     "execution_count": 37,
     "metadata": {},
     "output_type": "execute_result"
    }
   ],
   "source": [
    "df_order.columns"
   ]
  },
  {
   "cell_type": "code",
   "execution_count": 38,
   "metadata": {},
   "outputs": [
    {
     "data": {
      "text/plain": [
       "Index(['Customer ID', 'Customer Name', 'Segment', 'City', 'State'], dtype='object')"
      ]
     },
     "execution_count": 38,
     "metadata": {},
     "output_type": "execute_result"
    }
   ],
   "source": [
    "df_customer.columns"
   ]
  },
  {
   "cell_type": "code",
   "execution_count": 39,
   "metadata": {},
   "outputs": [
    {
     "data": {
      "text/html": [
       "<div>\n",
       "<style scoped>\n",
       "    .dataframe tbody tr th:only-of-type {\n",
       "        vertical-align: middle;\n",
       "    }\n",
       "\n",
       "    .dataframe tbody tr th {\n",
       "        vertical-align: top;\n",
       "    }\n",
       "\n",
       "    .dataframe thead th {\n",
       "        text-align: right;\n",
       "    }\n",
       "</style>\n",
       "<table border=\"1\" class=\"dataframe\">\n",
       "  <thead>\n",
       "    <tr style=\"text-align: right;\">\n",
       "      <th></th>\n",
       "      <th>Ship Mode</th>\n",
       "      <th>Sales</th>\n",
       "    </tr>\n",
       "  </thead>\n",
       "  <tbody>\n",
       "    <tr>\n",
       "      <th>0</th>\n",
       "      <td>Second Class</td>\n",
       "      <td>261.960</td>\n",
       "    </tr>\n",
       "    <tr>\n",
       "      <th>0</th>\n",
       "      <td>Second Class</td>\n",
       "      <td>261.960</td>\n",
       "    </tr>\n",
       "    <tr>\n",
       "      <th>0</th>\n",
       "      <td>Second Class</td>\n",
       "      <td>261.960</td>\n",
       "    </tr>\n",
       "    <tr>\n",
       "      <th>1</th>\n",
       "      <td>Second Class</td>\n",
       "      <td>731.940</td>\n",
       "    </tr>\n",
       "    <tr>\n",
       "      <th>1</th>\n",
       "      <td>Second Class</td>\n",
       "      <td>731.940</td>\n",
       "    </tr>\n",
       "    <tr>\n",
       "      <th>...</th>\n",
       "      <td>...</td>\n",
       "      <td>...</td>\n",
       "    </tr>\n",
       "    <tr>\n",
       "      <th>9559</th>\n",
       "      <td>First Class</td>\n",
       "      <td>195.640</td>\n",
       "    </tr>\n",
       "    <tr>\n",
       "      <th>9560</th>\n",
       "      <td>First Class</td>\n",
       "      <td>51.968</td>\n",
       "    </tr>\n",
       "    <tr>\n",
       "      <th>9561</th>\n",
       "      <td>First Class</td>\n",
       "      <td>431.976</td>\n",
       "    </tr>\n",
       "    <tr>\n",
       "      <th>9562</th>\n",
       "      <td>First Class</td>\n",
       "      <td>224.937</td>\n",
       "    </tr>\n",
       "    <tr>\n",
       "      <th>9563</th>\n",
       "      <td>First Class</td>\n",
       "      <td>6.000</td>\n",
       "    </tr>\n",
       "  </tbody>\n",
       "</table>\n",
       "<p>68140 rows × 2 columns</p>\n",
       "</div>"
      ],
      "text/plain": [
       "         Ship Mode    Sales\n",
       "0     Second Class  261.960\n",
       "0     Second Class  261.960\n",
       "0     Second Class  261.960\n",
       "1     Second Class  731.940\n",
       "1     Second Class  731.940\n",
       "...            ...      ...\n",
       "9559   First Class  195.640\n",
       "9560   First Class   51.968\n",
       "9561   First Class  431.976\n",
       "9562   First Class  224.937\n",
       "9563   First Class    6.000\n",
       "\n",
       "[68140 rows x 2 columns]"
      ]
     },
     "execution_count": 39,
     "metadata": {},
     "output_type": "execute_result"
    }
   ],
   "source": [
    "ship_mode = join_df[['Ship Mode','Sales']]\n",
    "ship_mode"
   ]
  },
  {
   "cell_type": "code",
   "execution_count": 40,
   "metadata": {},
   "outputs": [
    {
     "data": {
      "text/html": [
       "<div>\n",
       "<style scoped>\n",
       "    .dataframe tbody tr th:only-of-type {\n",
       "        vertical-align: middle;\n",
       "    }\n",
       "\n",
       "    .dataframe tbody tr th {\n",
       "        vertical-align: top;\n",
       "    }\n",
       "\n",
       "    .dataframe thead th {\n",
       "        text-align: right;\n",
       "    }\n",
       "</style>\n",
       "<table border=\"1\" class=\"dataframe\">\n",
       "  <thead>\n",
       "    <tr style=\"text-align: right;\">\n",
       "      <th></th>\n",
       "      <th>Ship Mode</th>\n",
       "      <th>Sales</th>\n",
       "    </tr>\n",
       "  </thead>\n",
       "  <tbody>\n",
       "    <tr>\n",
       "      <th>0</th>\n",
       "      <td>Second Class</td>\n",
       "      <td>261.96</td>\n",
       "    </tr>\n",
       "    <tr>\n",
       "      <th>0</th>\n",
       "      <td>Second Class</td>\n",
       "      <td>261.96</td>\n",
       "    </tr>\n",
       "    <tr>\n",
       "      <th>0</th>\n",
       "      <td>Second Class</td>\n",
       "      <td>261.96</td>\n",
       "    </tr>\n",
       "    <tr>\n",
       "      <th>1</th>\n",
       "      <td>Second Class</td>\n",
       "      <td>731.94</td>\n",
       "    </tr>\n",
       "    <tr>\n",
       "      <th>1</th>\n",
       "      <td>Second Class</td>\n",
       "      <td>731.94</td>\n",
       "    </tr>\n",
       "    <tr>\n",
       "      <th>...</th>\n",
       "      <td>...</td>\n",
       "      <td>...</td>\n",
       "    </tr>\n",
       "    <tr>\n",
       "      <th>9209</th>\n",
       "      <td>Second Class</td>\n",
       "      <td>7.28</td>\n",
       "    </tr>\n",
       "    <tr>\n",
       "      <th>9209</th>\n",
       "      <td>Second Class</td>\n",
       "      <td>7.28</td>\n",
       "    </tr>\n",
       "    <tr>\n",
       "      <th>9210</th>\n",
       "      <td>Second Class</td>\n",
       "      <td>5.40</td>\n",
       "    </tr>\n",
       "    <tr>\n",
       "      <th>9210</th>\n",
       "      <td>Second Class</td>\n",
       "      <td>5.40</td>\n",
       "    </tr>\n",
       "    <tr>\n",
       "      <th>9441</th>\n",
       "      <td>Second Class</td>\n",
       "      <td>48.36</td>\n",
       "    </tr>\n",
       "  </tbody>\n",
       "</table>\n",
       "<p>13072 rows × 2 columns</p>\n",
       "</div>"
      ],
      "text/plain": [
       "         Ship Mode   Sales\n",
       "0     Second Class  261.96\n",
       "0     Second Class  261.96\n",
       "0     Second Class  261.96\n",
       "1     Second Class  731.94\n",
       "1     Second Class  731.94\n",
       "...            ...     ...\n",
       "9209  Second Class    7.28\n",
       "9209  Second Class    7.28\n",
       "9210  Second Class    5.40\n",
       "9210  Second Class    5.40\n",
       "9441  Second Class   48.36\n",
       "\n",
       "[13072 rows x 2 columns]"
      ]
     },
     "execution_count": 40,
     "metadata": {},
     "output_type": "execute_result"
    }
   ],
   "source": [
    "subset_ship_mode = ship_mode[ship_mode['Ship Mode']=='Second Class']\n",
    "subset_ship_mode\n"
   ]
  },
  {
   "cell_type": "code",
   "execution_count": 41,
   "metadata": {},
   "outputs": [
    {
     "name": "stdout",
     "output_type": "stream",
     "text": [
      "Jumlah total pengiriman menggunakan Second Class: 13072\n"
     ]
    }
   ],
   "source": [
    "count_ship_mode = subset_ship_mode['Ship Mode'].count()\n",
    "print('Jumlah total pengiriman menggunakan Second Class:', count_ship_mode)"
   ]
  },
  {
   "cell_type": "code",
   "execution_count": 42,
   "metadata": {},
   "outputs": [
    {
     "data": {
      "text/plain": [
       "Ship Mode\n",
       "Standard Class    40997\n",
       "Second Class      13072\n",
       "First Class       10320\n",
       "Same Day           3751\n",
       "Name: count, dtype: int64"
      ]
     },
     "execution_count": 42,
     "metadata": {},
     "output_type": "execute_result"
    }
   ],
   "source": [
    "count_all_ship = join_df['Ship Mode'].value_counts()\n",
    "count_all_ship"
   ]
  },
  {
   "cell_type": "code",
   "execution_count": 43,
   "metadata": {},
   "outputs": [
    {
     "data": {
      "image/png": "[encoded data removed]",
      "text/plain": [
       "<Figure size 640x480 with 1 Axes>"
      ]
     },
     "metadata": {},
     "output_type": "display_data"
    }
   ],
   "source": [
    "sns.barplot(\n",
    "    x=count_all_ship.index,\n",
    "    y=count_all_ship.values,\n",
    "    hue=count_all_ship.index,\n",
    "    palette='rocket'\n",
    ")\n",
    "\n",
    "# Menambahkan label pada barplot\n",
    "for index, value in enumerate(count_all_ship.values):\n",
    "    plt.text(index, value, str(value), ha='center', va='bottom')\n",
    "\n",
    "plt.xlabel('Kategori Metode Pengiriman')\n",
    "plt.ylabel('Total Metode Pengiriman')\n",
    "plt.show()"
   ]
  },
  {
   "cell_type": "markdown",
   "metadata": {},
   "source": [
    "### d. Diskon dan Keuntungan"
   ]
  },
  {
   "cell_type": "code",
   "execution_count": 44,
   "metadata": {},
   "outputs": [
    {
     "data": {
      "text/plain": [
       "Index(['Row ID', 'Order ID', 'Order Date', 'Ship Date', 'Ship Mode',\n",
       "       'Customer ID', 'Country/Region', 'Postal Code', 'Region', 'Product ID',\n",
       "       'Category', 'Sub-Category', 'Product Name', 'Sales', 'Quantity',\n",
       "       'Discount', 'Profit', 'Year'],\n",
       "      dtype='object')"
      ]
     },
     "execution_count": 44,
     "metadata": {},
     "output_type": "execute_result"
    }
   ],
   "source": [
    "df_order.columns"
   ]
  },
  {
   "cell_type": "markdown",
   "metadata": {},
   "source": [
    "- Berapa persentase diskon rata-rata yang diberikan untuk setiap kategori produk?"
   ]
  },
  {
   "cell_type": "code",
   "execution_count": 45,
   "metadata": {},
   "outputs": [
    {
     "data": {
      "text/html": [
       "<div>\n",
       "<style scoped>\n",
       "    .dataframe tbody tr th:only-of-type {\n",
       "        vertical-align: middle;\n",
       "    }\n",
       "\n",
       "    .dataframe tbody tr th {\n",
       "        vertical-align: top;\n",
       "    }\n",
       "\n",
       "    .dataframe thead th {\n",
       "        text-align: right;\n",
       "    }\n",
       "</style>\n",
       "<table border=\"1\" class=\"dataframe\">\n",
       "  <thead>\n",
       "    <tr style=\"text-align: right;\">\n",
       "      <th></th>\n",
       "      <th>Discount</th>\n",
       "      <th>Category</th>\n",
       "    </tr>\n",
       "  </thead>\n",
       "  <tbody>\n",
       "    <tr>\n",
       "      <th>0</th>\n",
       "      <td>0.00</td>\n",
       "      <td>Furniture</td>\n",
       "    </tr>\n",
       "    <tr>\n",
       "      <th>1</th>\n",
       "      <td>0.00</td>\n",
       "      <td>Furniture</td>\n",
       "    </tr>\n",
       "    <tr>\n",
       "      <th>2</th>\n",
       "      <td>0.00</td>\n",
       "      <td>Office Supplies</td>\n",
       "    </tr>\n",
       "    <tr>\n",
       "      <th>3</th>\n",
       "      <td>0.45</td>\n",
       "      <td>Furniture</td>\n",
       "    </tr>\n",
       "    <tr>\n",
       "      <th>4</th>\n",
       "      <td>0.20</td>\n",
       "      <td>Office Supplies</td>\n",
       "    </tr>\n",
       "  </tbody>\n",
       "</table>\n",
       "</div>"
      ],
      "text/plain": [
       "   Discount         Category\n",
       "0      0.00        Furniture\n",
       "1      0.00        Furniture\n",
       "2      0.00  Office Supplies\n",
       "3      0.45        Furniture\n",
       "4      0.20  Office Supplies"
      ]
     },
     "execution_count": 45,
     "metadata": {},
     "output_type": "execute_result"
    }
   ],
   "source": [
    "disc_by_category = df_order[['Discount','Category']]\n",
    "disc_by_category.head()"
   ]
  },
  {
   "cell_type": "code",
   "execution_count": 47,
   "metadata": {},
   "outputs": [
    {
     "data": {
      "image/png": "[encoded data removed]",
      "text/plain": [
       "<Figure size 500x500 with 1 Axes>"
      ]
     },
     "metadata": {},
     "output_type": "display_data"
    }
   ],
   "source": [
    "# Menghitung diskon rata-rata untuk setiap kategori produk\n",
    "avg_disc_by_category = df_order.groupby('Category')['Discount'].mean()\n",
    "\n",
    "# Normalisasi persentase agar totalnya adalah 100%\n",
    "total_percentage = avg_disc_by_category.sum()\n",
    "percentage_disc_by_category = (avg_disc_by_category / total_percentage) * 100\n",
    "\n",
    "plt.figure(figsize=(5, 5))\n",
    "palette = sns.color_palette(\"colorblind\", len(percentage_disc_by_category))\n",
    "plt.pie(\n",
    "    percentage_disc_by_category,\n",
    "    labels=percentage_disc_by_category.index,\n",
    "    autopct='%0.2f%%',\n",
    "    startangle=45,\n",
    "    colors=palette)\n",
    "plt.title('Persentase Diskon Rata-rata di Setiap Kategori Produk')\n",
    "plt.show()\n"
   ]
  },
  {
   "cell_type": "markdown",
   "metadata": {},
   "source": [
    "- Kategori produk mana yang memiliki margin keuntungan rata-rata tertinggi?"
   ]
  },
  {
   "cell_type": "markdown",
   "metadata": {},
   "source": [
    "### e. Produk"
   ]
  },
  {
   "cell_type": "markdown",
   "metadata": {},
   "source": [
    "- Berapa total kuantitas yang terjual untuk setiap sub-kategori produk?"
   ]
  },
  {
   "cell_type": "markdown",
   "metadata": {},
   "source": [
    "- Apakah ada kategori produk tertentu yang mendominasi penjualan? Bagaimana distribusi penjualan di antara sub-kategori produk?"
   ]
  },
  {
   "cell_type": "markdown",
   "metadata": {},
   "source": [
    "# 9. Conclusion & Recommendation"
   ]
  },
  {
   "cell_type": "code",
   "execution_count": 48,
   "metadata": {},
   "outputs": [],
   "source": [
    "# db = mysql.connector.connect(\n",
    "#     host = 'localhost',\n",
    "#     user = 'root', \n",
    "#     password = '',\n",
    "#     database = 'tutorial1'\n",
    "#     )\n",
    "\n",
    "# if db.is_connected():\n",
    "#     print('berhasil')\n",
    "\n",
    "\n",
    "\n",
    "# cursor = db.cursor()\n",
    "# cursor.execute('create database tutorial1')\n",
    "# print('db berhasil dibuat')\n",
    "\n",
    "\n",
    "\n",
    "# cursor.execute('create table if not exists cleaned_text(id integer primary key autoincrement, text text)')"
   ]
  }
 ],
 "metadata": {
  "kernelspec": {
   "display_name": "cobapascal",
   "language": "python",
   "name": "python3"
  },
  "language_info": {
   "codemirror_mode": {
    "name": "ipython",
    "version": 3
   },
   "file_extension": ".py",
   "mimetype": "text/x-python",
   "name": "python",
   "nbconvert_exporter": "python",
   "pygments_lexer": "ipython3",
   "version": "3.9.18"
  }
 },
 "nbformat": 4,
 "nbformat_minor": 2
}
